{
  "nbformat": 4,
  "nbformat_minor": 0,
  "metadata": {
    "colab": {
      "name": "traffic_sign_classifier.ipynb",
      "provenance": [],
      "toc_visible": true,
      "mount_file_id": "1HwnbLYtDsrU8obxITuu01JHlV5JZWbkc",
      "authorship_tag": "ABX9TyNGVx06nUy9mDxRmif2zSy8",
      "include_colab_link": true
    },
    "kernelspec": {
      "name": "python3",
      "display_name": "Python 3"
    },
    "accelerator": "GPU"
  },
  "cells": [
    {
      "cell_type": "markdown",
      "metadata": {
        "id": "view-in-github",
        "colab_type": "text"
      },
      "source": [
        "<a href=\"https://colab.research.google.com/github/vateseif/traffic_sign_recognition/blob/master/traffic_sign_classifier.ipynb\" target=\"_parent\"><img src=\"https://colab.research.google.com/assets/colab-badge.svg\" alt=\"Open In Colab\"/></a>"
      ]
    },
    {
      "cell_type": "code",
      "metadata": {
        "id": "4NtjwuFoK7Ux"
      },
      "source": [
        "import numpy as np\n",
        "%tensorflow_version 2.x\n",
        "import tensorflow as tf\n",
        "import matplotlib.pyplot as plt\n",
        "import os\n",
        "import shutil\n"
      ],
      "execution_count": null,
      "outputs": []
    },
    {
      "cell_type": "markdown",
      "metadata": {
        "id": "QdFwiFwA94kD"
      },
      "source": [
        "# Downloading Kaggle dataset (GTSRB)"
      ]
    },
    {
      "cell_type": "code",
      "metadata": {
        "id": "7AZi9sGfuqV5",
        "colab": {
          "base_uri": "https://localhost:8080/"
        },
        "outputId": "ad43de85-469a-4df6-e29f-f00f7df5c37f"
      },
      "source": [
        "!mkdir ~/.kaggle\n",
        "!touch ~/.kaggle/kaggle.json\n",
        "\n",
        "api_token = {\"username\":\"vateseif99\",\"key\":\"c00e2a500deb03e9e1ba578e43682111\"}\n",
        "\n",
        "import json\n",
        "\n",
        "with open('/root/.kaggle/kaggle.json', 'w') as file:\n",
        "    json.dump(api_token, file)\n",
        "\n",
        "!chmod 600 ~/.kaggle/kaggle.json\n",
        "\n",
        "# API call to download German traffic sign dataset\n",
        "!kaggle datasets download -d meowmeowmeowmeowmeow/gtsrb-german-traffic-sign\n",
        "\n",
        "# Unzipping dataset\n",
        "!unzip -q \"gtsrb-german-traffic-sign.zip\"\n",
        "\n"
      ],
      "execution_count": null,
      "outputs": [
        {
          "output_type": "stream",
          "text": [
            "Downloading gtsrb-german-traffic-sign.zip to /content\n",
            "100% 611M/612M [00:05<00:00, 186MB/s]\n",
            "100% 612M/612M [00:05<00:00, 122MB/s]\n"
          ],
          "name": "stdout"
        }
      ]
    },
    {
      "cell_type": "markdown",
      "metadata": {
        "id": "bzUURnQvjhIQ"
      },
      "source": [
        "# Data Augmentation (with dataset fix)\n",
        "Now we will augment the data and create new images to add to the ones we have already\n",
        "\n",
        "FOR MORE INFO CHECK:\n",
        "\n",
        "\n",
        "https://www.pyimagesearch.com/2019/07/08/keras-imagedatagenerator-and-data-augmentation/\n",
        "\n",
        "From there, we’ll parse three command line arguments:\n",
        "\n",
        "--image : The path to the input image. We’ll generate additional random, mutated versions of this image.\n",
        "\n",
        "--output : The path to the output directory to store the data augmentation examples.\n",
        "\n",
        "--total : The number of sample images to generate."
      ]
    },
    {
      "cell_type": "code",
      "metadata": {
        "id": "Vhv1v4SgjrRo"
      },
      "source": [
        "# import the necessary packages\n",
        "from tensorflow.keras.preprocessing.image import ImageDataGenerator\n",
        "from tensorflow.keras.preprocessing.image import img_to_array\n",
        "from tensorflow.keras.preprocessing.image import load_img\n",
        "import argparse\n",
        "import easydict\n",
        "\n",
        "# construct the argument parser and parse the arguments\n",
        "def augmentData(imagePath, outputPath, total):\n",
        "  \"\"\"\n",
        "    imagePath = path to image\n",
        "    outputPath = path to where the new augmented data will be stored\n",
        "    total = number of sample images to generate\n",
        "  \"\"\"\n",
        "  parser = argparse.ArgumentParser()\n",
        "  args = parser.parse_args(args=[])\n",
        "  args = easydict.EasyDict({\n",
        "    \"image\": imagePath,\n",
        "    \"output\": outputPath,\n",
        "    \"total\" : total\n",
        "    })\n",
        "  image = load_img(args[\"image\"])\n",
        "  image = img_to_array(image)\n",
        "  image = np.expand_dims(image, axis=0)\n",
        "  # construct the image generator for data augmentation then\n",
        "  # initialize the total number of images generated thus far\n",
        "  aug = ImageDataGenerator(\n",
        "    rotation_range=40,\n",
        "    zoom_range=0.15,\n",
        "    width_shift_range=0.1,\n",
        "    height_shift_range=0.1,\n",
        "    shear_range=0.1,\n",
        "    horizontal_flip=True,\n",
        "    brightness_range=[0.7,1.3],\n",
        "    fill_mode=\"nearest\")\n",
        "  total = 0\n",
        "  imageGen = aug.flow(image, batch_size=1, save_to_dir=args[\"output\"],\n",
        "\tsave_prefix=\"image\", save_format=\"jpg\")\n",
        "  # loop over examples from our image data augmentation generator\n",
        "  for image in imageGen:\n",
        "    # increment our counter\n",
        "    total += 1\n",
        "    # if we have reached the specified number of examples, break\n",
        "    # from the loop\n",
        "    if total == args[\"total\"]:\n",
        "      break\n",
        "  "
      ],
      "execution_count": null,
      "outputs": []
    },
    {
      "cell_type": "code",
      "metadata": {
        "id": "qnwdhZsEqF8K"
      },
      "source": [
        "augmentData(\"/content/train/0/00000_00004_00024.png\",\"/content/\",total=5)"
      ],
      "execution_count": null,
      "outputs": []
    },
    {
      "cell_type": "code",
      "metadata": {
        "id": "sT1JmDIiqkLu",
        "colab": {
          "base_uri": "https://localhost:8080/",
          "height": 159
        },
        "outputId": "214c958f-af6e-41f2-f496-fcc2428df2fe"
      },
      "source": [
        "import cv2\n",
        "import PIL.Image\n",
        "\n",
        "image = '/content/train/0/00000_00004_00024.png'\n",
        "rgba_image = PIL.Image.open(image)\n",
        "plt.figure(figsize=(2,2))\n",
        "plt.imshow(rgb_image)\n",
        "plt.show()"
      ],
      "execution_count": null,
      "outputs": [
        {
          "output_type": "display_data",
          "data": {
            "image/png": "[encoded data removed]",
            "text/plain": [
              "<Figure size 144x144 with 1 Axes>"
            ]
          },
          "metadata": {
            "tags": [],
            "needs_background": "light"
          }
        }
      ]
    },
    {
      "cell_type": "markdown",
      "metadata": {
        "id": "mJ9scrmaIRJg"
      },
      "source": [
        "**Augmenting the training dataset**\n",
        "\n",
        "At location \"/content/Data/Test\""
      ]
    },
    {
      "cell_type": "code",
      "metadata": {
        "id": "s-NGulJAERie",
        "colab": {
          "base_uri": "https://localhost:8080/",
          "height": 766
        },
        "outputId": "ab3c212f-7516-4f6b-d94e-0b48e252c9a2"
      },
      "source": [
        "import os\n",
        "imagePerClass = 2500\n",
        "i=0\n",
        "\n",
        "# Directories for augmented datasets\n",
        "augmented_train_data_dir = \"/content/Train/\"\n",
        "\n",
        "for i in range(len(os.listdir(augmented_train_data_dir))):\n",
        "  print(i)\n",
        "  classPath = augmented_train_data_dir + os.listdir(augmented_train_data_dir)[i]\n",
        "  n = len(os.listdir(classPath))\n",
        "  if n <= imagePerClass/2:\n",
        "    for j in range(n):\n",
        "      imPath = classPath+\"/\"+os.listdir(classPath)[j]\n",
        "      imageCopiesNumber = int(round((imagePerClass-n)/n))\n",
        "      augmentData(imagePath=imPath,outputPath=classPath,total=imageCopiesNumber)\n",
        "  elif n > imagePerClass/2 and n < imagePerClass:\n",
        "    from random import randrange\n",
        "    diff = imagePerClass - n\n",
        "    for _ in range(diff):\n",
        "      index = randrange(n)\n",
        "      imPath = classPath+\"/\"+os.listdir(classPath)[index]\n",
        "      augmentData(imagePath=imPath,outputPath=classPath,total=1)\n",
        "\n",
        "shutil.move(\"/content/Train\",\"/content/Data/Train\")"
      ],
      "execution_count": null,
      "outputs": [
        {
          "output_type": "stream",
          "text": [
            "0\n",
            "1\n",
            "2\n",
            "3\n",
            "4\n",
            "5\n",
            "6\n",
            "7\n",
            "8\n",
            "9\n",
            "10\n",
            "11\n",
            "12\n",
            "13\n",
            "14\n",
            "15\n",
            "16\n",
            "17\n",
            "18\n",
            "19\n",
            "20\n",
            "21\n",
            "22\n",
            "23\n",
            "24\n",
            "25\n",
            "26\n",
            "27\n",
            "28\n",
            "29\n",
            "30\n",
            "31\n",
            "32\n",
            "33\n",
            "34\n",
            "35\n",
            "36\n",
            "37\n",
            "38\n",
            "39\n",
            "40\n",
            "41\n",
            "42\n"
          ],
          "name": "stdout"
        },
        {
          "output_type": "execute_result",
          "data": {
            "application/vnd.google.colaboratory.intrinsic+json": {
              "type": "string"
            },
            "text/plain": [
              "'/content/Data/Train'"
            ]
          },
          "metadata": {
            "tags": []
          },
          "execution_count": 4
        }
      ]
    },
    {
      "cell_type": "markdown",
      "metadata": {
        "id": "0U4ZdBrd_6ck"
      },
      "source": [
        "**Creating Test dataset**\n",
        "\n",
        "At location \"/content/Data/Test\""
      ]
    },
    {
      "cell_type": "code",
      "metadata": {
        "id": "QilkB4xW-IJ6"
      },
      "source": [
        "#shutil.copytree(testing_data_dir,\"/content/Data/Testing\")\n",
        "import csv\n",
        "from collections import defaultdict\n",
        "\n",
        "columns = defaultdict(list) # each value in each column is appended to a list\n",
        "\n",
        "with open('/content/Test.csv') as f:\n",
        "    reader = csv.DictReader(f) # read rows into a dictionary format\n",
        "    for row in reader: # read a row as {column1: value1, column2: value2,...}\n",
        "        for (k,v) in row.items(): # go over each column name and value \n",
        "            if k == \"Path\" or k == \"ClassId\":\n",
        "              columns[k].append(v) # append the value into the appropriate list\n",
        "                                 # based on column name k\n",
        "\n",
        "os.mkdir(\"/content/Data/Test\")\n",
        "for i in range(43):\n",
        "  os.mkdir(\"/content/Data/Test/\"+str(i))\n",
        "\n",
        "for i in range(len(columns[\"Path\"])):\n",
        "  s = \"/content/\"+columns[\"Path\"][i]\n",
        "  d = \"/content/Data/\"+(columns[\"Path\"][i])[:5]+columns[\"ClassId\"][i]+\"/\"+(columns[\"Path\"][i])[5:]\n",
        "  os.rename(s,d)"
      ],
      "execution_count": null,
      "outputs": []
    },
    {
      "cell_type": "markdown",
      "metadata": {
        "id": "pZEP05oy9hH5"
      },
      "source": [
        "**Visualizing the augmented dataset**\n",
        "\n",
        "All categories almost have around 2500 images each now"
      ]
    },
    {
      "cell_type": "code",
      "metadata": {
        "id": "Ah4W0X_dX6Hy",
        "colab": {
          "base_uri": "https://localhost:8080/",
          "height": 404
        },
        "outputId": "f1b6ba8a-a55c-43d1-b073-670db656ff12"
      },
      "source": [
        "target_names = [item for item in os.listdir(\"/content/Data/Train/\") if os.path.isdir(os.path.join(\"/content/Data/Train/\", item))]\n",
        "\n",
        "classes = {} # Classes is a dictionary of type {category : # of images}\n",
        "for cat in target_names:\n",
        "  classes[cat] = len(os.listdir(\"/content/Data/Train/\"+cat))\n",
        "\n",
        "classes = {int(k):int(v) for k,v in classes.items()}\n",
        "classes = dict(sorted(classes.items())) # Sort classes by category number: 0,1,2,3...\n",
        "print(classes)\n",
        "# Plot the # of images per category (training and testing) WE NEED TO FIX IT\n",
        "plt.figure(figsize=(10,5))\n",
        "plt.bar(range(len(classes)), list(classes.values()), align='center')\n",
        "plt.xticks(range(len(classes)), list(classes.keys()))\n",
        "\n",
        "plt.title(\"Dataset distribution per class\")\n",
        "plt.xlabel(\"Classes\")\n",
        "plt.ylabel(\"Number of images\")\n",
        "\n",
        "plt.show()\n",
        "\n",
        "print(sum(classes.values()))\n"
      ],
      "execution_count": null,
      "outputs": [
        {
          "output_type": "stream",
          "text": [
            "{0: 2256, 1: 2497, 2: 2499, 3: 2449, 4: 2487, 5: 2474, 6: 2315, 7: 2450, 8: 2445, 9: 2455, 10: 2496, 11: 2431, 12: 2491, 13: 2491, 14: 2232, 15: 2360, 16: 2303, 17: 2158, 18: 2323, 19: 2274, 20: 2305, 21: 2400, 22: 2154, 23: 2378, 24: 2229, 25: 2459, 26: 2248, 27: 2192, 28: 2509, 29: 2217, 30: 2456, 31: 2226, 32: 2170, 33: 2570, 34: 2329, 35: 2321, 36: 2151, 37: 2279, 38: 2492, 39: 2174, 40: 2300, 41: 2165, 42: 2170}\n"
          ],
          "name": "stdout"
        },
        {
          "output_type": "display_data",
          "data": {
            "image/png": "[encoded data removed]",
            "text/plain": [
              "<Figure size 720x360 with 1 Axes>"
            ]
          },
          "metadata": {
            "tags": [],
            "needs_background": "light"
          }
        },
        {
          "output_type": "stream",
          "text": [
            "100780\n"
          ],
          "name": "stdout"
        }
      ]
    },
    {
      "cell_type": "markdown",
      "metadata": {
        "id": "9CF15qfFTCfW"
      },
      "source": [
        "# Train model with fastai (ResNet34) - 93% test accuracy\n",
        "\n",
        "For reference:\n",
        "https://github.com/surmenok/GTSRB/blob/master/german-traffic-signs.ipynb\n"
      ]
    },
    {
      "cell_type": "markdown",
      "metadata": {
        "id": "vBuBsVvT7L4r"
      },
      "source": [
        "Import libraries"
      ]
    },
    {
      "cell_type": "code",
      "metadata": {
        "id": "d6WB4_TcTNHy"
      },
      "source": [
        "import fastai\n",
        "from fastai import *\n",
        "from fastai.vision import *\n",
        "bs =64"
      ],
      "execution_count": null,
      "outputs": []
    },
    {
      "cell_type": "markdown",
      "metadata": {
        "id": "ZJhuznfp7RuR"
      },
      "source": [
        "**Generate ImageDataBunch**\n",
        "\n",
        "Both \"Train\" and \"Test\" folder must be in the same folder \"Data\""
      ]
    },
    {
      "cell_type": "code",
      "metadata": {
        "id": "4Llcp5JVUzTb",
        "colab": {
          "base_uri": "https://localhost:8080/"
        },
        "outputId": "d184f662-084c-463b-e67e-7c4f033b4abb"
      },
      "source": [
        "## Declaring path of dataset\n",
        "path = '/content/Data/'\n",
        "wd=5e-4\n",
        "## Loading data \n",
        "data = fastai.vision.ImageDataBunch.from_folder(path, train='Train', valid=\"Test\",\n",
        "                                  ds_tfms=get_transforms(), size=80, bs=bs)\n",
        "## Normalizing data based on Image net parameters\n",
        "data.normalize(imagenet_stats)"
      ],
      "execution_count": null,
      "outputs": [
        {
          "output_type": "stream",
          "text": [
            "/usr/local/lib/python3.6/dist-packages/torch/nn/functional.py:3103: UserWarning: The default behavior for interpolate/upsample with float scale_factor changed in 1.6.0 to align with other frameworks/libraries, and now uses scale_factor directly, instead of relying on the computed output size. If you wish to restore the old behavior, please set recompute_scale_factor=True. See the documentation of nn.Upsample for details. \n",
            "  warnings.warn(\"The default behavior for interpolate/upsample with float scale_factor changed \"\n"
          ],
          "name": "stderr"
        },
        {
          "output_type": "execute_result",
          "data": {
            "text/plain": [
              "ImageDataBunch;\n",
              "\n",
              "Train: LabelList (100780 items)\n",
              "x: ImageList\n",
              "Image (3, 80, 80),Image (3, 80, 80),Image (3, 80, 80),Image (3, 80, 80),Image (3, 80, 80)\n",
              "y: CategoryList\n",
              "27,27,27,27,27\n",
              "Path: /content/Data;\n",
              "\n",
              "Valid: LabelList (12630 items)\n",
              "x: ImageList\n",
              "Image (3, 80, 80),Image (3, 80, 80),Image (3, 80, 80),Image (3, 80, 80),Image (3, 80, 80)\n",
              "y: CategoryList\n",
              "27,27,27,27,27\n",
              "Path: /content/Data;\n",
              "\n",
              "Test: None"
            ]
          },
          "metadata": {
            "tags": []
          },
          "execution_count": 9
        }
      ]
    },
    {
      "cell_type": "markdown",
      "metadata": {
        "id": "-ta3XFo888tw"
      },
      "source": [
        "**Declare unfrozen model (*all weights trainable*)**"
      ]
    },
    {
      "cell_type": "code",
      "metadata": {
        "id": "bGPE6T0VW7L4"
      },
      "source": [
        "## To create a ResNET 34 with pretrained weights\n",
        "# pretrained = False - All layers are trainable\n",
        "learn = cnn_learner(data, models.resnet34, metrics=accuracy, pretrained=False)"
      ],
      "execution_count": null,
      "outputs": []
    },
    {
      "cell_type": "markdown",
      "metadata": {
        "id": "p1L4t2JI9PjG"
      },
      "source": [
        "Fit model for 1 epoch (***all weights trainable***)"
      ]
    },
    {
      "cell_type": "code",
      "metadata": {
        "id": "mgssE9ixc_ah",
        "colab": {
          "base_uri": "https://localhost:8080/",
          "height": 97
        },
        "outputId": "4b509116-d309-4d3b-c8b8-22c673597e9f"
      },
      "source": [
        "import warnings\n",
        "warnings.filterwarnings('ignore')\n",
        "learn.fit(lr=0.01,epochs= 1, wd=wd,)\n",
        "learn.validate()"
      ],
      "execution_count": null,
      "outputs": [
        {
          "output_type": "display_data",
          "data": {
            "text/html": [
              "<table border=\"1\" class=\"dataframe\">\n",
              "  <thead>\n",
              "    <tr style=\"text-align: left;\">\n",
              "      <th>epoch</th>\n",
              "      <th>train_loss</th>\n",
              "      <th>valid_loss</th>\n",
              "      <th>accuracy</th>\n",
              "      <th>time</th>\n",
              "    </tr>\n",
              "  </thead>\n",
              "  <tbody>\n",
              "    <tr>\n",
              "      <td>0</td>\n",
              "      <td>1.752816</td>\n",
              "      <td>1.528188</td>\n",
              "      <td>0.506176</td>\n",
              "      <td>04:03</td>\n",
              "    </tr>\n",
              "  </tbody>\n",
              "</table>"
            ],
            "text/plain": [
              "<IPython.core.display.HTML object>"
            ]
          },
          "metadata": {
            "tags": []
          }
        },
        {
          "output_type": "display_data",
          "data": {
            "text/html": [
              ""
            ],
            "text/plain": [
              "<IPython.core.display.HTML object>"
            ]
          },
          "metadata": {
            "tags": []
          }
        },
        {
          "output_type": "execute_result",
          "data": {
            "text/plain": [
              "[1.5281881, tensor(0.5062)]"
            ]
          },
          "metadata": {
            "tags": []
          },
          "execution_count": 11
        }
      ]
    },
    {
      "cell_type": "markdown",
      "metadata": {
        "id": "sQIBOBFX9c_K"
      },
      "source": [
        "Unfreeze model and find best ***learning_rate***"
      ]
    },
    {
      "cell_type": "code",
      "metadata": {
        "id": "95p3RbSdrQUo",
        "colab": {
          "base_uri": "https://localhost:8080/",
          "height": 374
        },
        "outputId": "6b904c62-7ec0-4fad-ccb7-38b86bbdbe38"
      },
      "source": [
        "learn.unfreeze() # must be done before calling lr_find\n",
        "learn.lr_find()\n",
        "learn.recorder.plot()"
      ],
      "execution_count": null,
      "outputs": [
        {
          "output_type": "display_data",
          "data": {
            "text/html": [
              "\n",
              "    <div>\n",
              "        <style>\n",
              "            /* Turns off some styling */\n",
              "            progress {\n",
              "                /* gets rid of default border in Firefox and Opera. */\n",
              "                border: none;\n",
              "                /* Needs to be in here for Safari polyfill so background images work as expected. */\n",
              "                background-size: auto;\n",
              "            }\n",
              "            .progress-bar-interrupted, .progress-bar-interrupted::-webkit-progress-bar {\n",
              "                background: #F44336;\n",
              "            }\n",
              "        </style>\n",
              "      <progress value='0' class='' max='1' style='width:300px; height:20px; vertical-align: middle;'></progress>\n",
              "      0.00% [0/1 00:00<00:00]\n",
              "    </div>\n",
              "    \n",
              "<table border=\"1\" class=\"dataframe\">\n",
              "  <thead>\n",
              "    <tr style=\"text-align: left;\">\n",
              "      <th>epoch</th>\n",
              "      <th>train_loss</th>\n",
              "      <th>valid_loss</th>\n",
              "      <th>accuracy</th>\n",
              "      <th>time</th>\n",
              "    </tr>\n",
              "  </thead>\n",
              "  <tbody>\n",
              "  </tbody>\n",
              "</table><p>\n",
              "\n",
              "    <div>\n",
              "        <style>\n",
              "            /* Turns off some styling */\n",
              "            progress {\n",
              "                /* gets rid of default border in Firefox and Opera. */\n",
              "                border: none;\n",
              "                /* Needs to be in here for Safari polyfill so background images work as expected. */\n",
              "                background-size: auto;\n",
              "            }\n",
              "            .progress-bar-interrupted, .progress-bar-interrupted::-webkit-progress-bar {\n",
              "                background: #F44336;\n",
              "            }\n",
              "        </style>\n",
              "      <progress value='79' class='' max='1573' style='width:300px; height:20px; vertical-align: middle;'></progress>\n",
              "      5.02% [79/1573 00:13<04:16 0.5816]\n",
              "    </div>\n",
              "    "
            ],
            "text/plain": [
              "<IPython.core.display.HTML object>"
            ]
          },
          "metadata": {
            "tags": []
          }
        },
        {
          "output_type": "stream",
          "text": [
            "LR Finder is complete, type {learner_name}.recorder.plot() to see the graph.\n"
          ],
          "name": "stdout"
        },
        {
          "output_type": "display_data",
          "data": {
            "image/png": "[encoded data removed]",
            "text/plain": [
              "<Figure size 432x288 with 1 Axes>"
            ]
          },
          "metadata": {
            "tags": [],
            "needs_background": "light"
          }
        }
      ]
    },
    {
      "cell_type": "markdown",
      "metadata": {
        "id": "_X72Juiv-BX9"
      },
      "source": [
        "Train for 3 more epochs"
      ]
    },
    {
      "cell_type": "code",
      "metadata": {
        "id": "CUTX4bprNZT0",
        "colab": {
          "base_uri": "https://localhost:8080/",
          "height": 159
        },
        "outputId": "e845efef-6e24-447a-920d-fc70d2ac054f"
      },
      "source": [
        "learn.unfreeze()\n",
        "learn.fit(lr=0.01, epochs=3, wd=wd)\n",
        "#learn.fit(0.01, 3)\n",
        "learn.validate(dl=data.valid_dl)"
      ],
      "execution_count": null,
      "outputs": [
        {
          "output_type": "display_data",
          "data": {
            "text/html": [
              "<table border=\"1\" class=\"dataframe\">\n",
              "  <thead>\n",
              "    <tr style=\"text-align: left;\">\n",
              "      <th>epoch</th>\n",
              "      <th>train_loss</th>\n",
              "      <th>valid_loss</th>\n",
              "      <th>accuracy</th>\n",
              "      <th>time</th>\n",
              "    </tr>\n",
              "  </thead>\n",
              "  <tbody>\n",
              "    <tr>\n",
              "      <td>0</td>\n",
              "      <td>0.682817</td>\n",
              "      <td>0.836001</td>\n",
              "      <td>0.732067</td>\n",
              "      <td>03:57</td>\n",
              "    </tr>\n",
              "    <tr>\n",
              "      <td>1</td>\n",
              "      <td>0.377023</td>\n",
              "      <td>0.420082</td>\n",
              "      <td>0.901742</td>\n",
              "      <td>03:54</td>\n",
              "    </tr>\n",
              "    <tr>\n",
              "      <td>2</td>\n",
              "      <td>0.273053</td>\n",
              "      <td>0.392724</td>\n",
              "      <td>0.901821</td>\n",
              "      <td>03:53</td>\n",
              "    </tr>\n",
              "  </tbody>\n",
              "</table>"
            ],
            "text/plain": [
              "<IPython.core.display.HTML object>"
            ]
          },
          "metadata": {
            "tags": []
          }
        },
        {
          "output_type": "display_data",
          "data": {
            "text/html": [
              ""
            ],
            "text/plain": [
              "<IPython.core.display.HTML object>"
            ]
          },
          "metadata": {
            "tags": []
          }
        },
        {
          "output_type": "execute_result",
          "data": {
            "text/plain": [
              "[0.39272356, tensor(0.9018)]"
            ]
          },
          "metadata": {
            "tags": []
          },
          "execution_count": 12
        }
      ]
    },
    {
      "cell_type": "code",
      "metadata": {
        "id": "cG5L0CltTGhd"
      },
      "source": [
        "learn.save('model_v1')"
      ],
      "execution_count": null,
      "outputs": []
    },
    {
      "cell_type": "markdown",
      "metadata": {
        "id": "_dipkvWC-Hbe"
      },
      "source": [
        "Train for one cycle\n",
        "\n",
        "**Research fit_one_cycle:**\n",
        "\n",
        "https://forums.fast.ai/t/how-to-best-use-fit-one-cycle-in-practice/40940"
      ]
    },
    {
      "cell_type": "code",
      "metadata": {
        "id": "5aH6r6GIN2Ju",
        "colab": {
          "base_uri": "https://localhost:8080/",
          "height": 97
        },
        "outputId": "72ebbe47-a3f7-45b9-c078-019ecfbbd34d"
      },
      "source": [
        "learn.fit_one_cycle(tot_epochs= 2, wd=wd,cyc_len=1)\n",
        "#learn.fit(lr, 4, cycle_len=1, cycle_mult=2)\n",
        "learn.validate(dl=data.valid_dl)"
      ],
      "execution_count": null,
      "outputs": [
        {
          "output_type": "display_data",
          "data": {
            "text/html": [
              "<table border=\"1\" class=\"dataframe\">\n",
              "  <thead>\n",
              "    <tr style=\"text-align: left;\">\n",
              "      <th>epoch</th>\n",
              "      <th>train_loss</th>\n",
              "      <th>valid_loss</th>\n",
              "      <th>accuracy</th>\n",
              "      <th>time</th>\n",
              "    </tr>\n",
              "  </thead>\n",
              "  <tbody>\n",
              "    <tr>\n",
              "      <td>0</td>\n",
              "      <td>0.109214</td>\n",
              "      <td>0.202963</td>\n",
              "      <td>0.948139</td>\n",
              "      <td>04:02</td>\n",
              "    </tr>\n",
              "  </tbody>\n",
              "</table>"
            ],
            "text/plain": [
              "<IPython.core.display.HTML object>"
            ]
          },
          "metadata": {
            "tags": []
          }
        },
        {
          "output_type": "display_data",
          "data": {
            "text/html": [
              ""
            ],
            "text/plain": [
              "<IPython.core.display.HTML object>"
            ]
          },
          "metadata": {
            "tags": []
          }
        },
        {
          "output_type": "execute_result",
          "data": {
            "text/plain": [
              "[0.20296317, tensor(0.9481)]"
            ]
          },
          "metadata": {
            "tags": []
          },
          "execution_count": 14
        }
      ]
    },
    {
      "cell_type": "code",
      "metadata": {
        "id": "9lZHZ44Petoa"
      },
      "source": [
        "learn.model.eval()\n",
        "learn.save('model_v2') # USELESS, instead use learn.export"
      ],
      "execution_count": null,
      "outputs": []
    },
    {
      "cell_type": "markdown",
      "metadata": {
        "id": "cFAtCzih-qk5"
      },
      "source": [
        "**Export model**"
      ]
    },
    {
      "cell_type": "code",
      "metadata": {
        "id": "UnHU7lefiMzf"
      },
      "source": [
        "learn.export('/content/Data/models/sign_classifier.pkl')"
      ],
      "execution_count": null,
      "outputs": []
    },
    {
      "cell_type": "code",
      "metadata": {
        "colab": {
          "base_uri": "https://localhost:8080/",
          "height": 34
        },
        "id": "mBRqQnDUU-OP",
        "outputId": "ef4e6cbf-846a-4e5f-bccb-780507869777"
      },
      "source": [
        "learn.validate(dl=data.valid_dl)"
      ],
      "execution_count": null,
      "outputs": [
        {
          "output_type": "display_data",
          "data": {
            "text/html": [
              ""
            ],
            "text/plain": [
              "<IPython.core.display.HTML object>"
            ]
          },
          "metadata": {
            "tags": []
          }
        },
        {
          "output_type": "execute_result",
          "data": {
            "text/plain": [
              "[0.20296317, tensor(0.9481)]"
            ]
          },
          "metadata": {
            "tags": []
          },
          "execution_count": 18
        }
      ]
    },
    {
      "cell_type": "markdown",
      "metadata": {
        "id": "zXdGRXWCbl5l"
      },
      "source": [
        "# Confusion matrix"
      ]
    },
    {
      "cell_type": "code",
      "metadata": {
        "id": "63OGKJT3blWf"
      },
      "source": [
        "log_preds, y = learn.get_preds(learn.dl)\n",
        "preds = np.exp(log_preds)\n",
        "pred_labels = np.argmax(preds, axis=1)"
      ],
      "execution_count": null,
      "outputs": []
    },
    {
      "cell_type": "code",
      "metadata": {
        "id": "6-PyZ5fuoRAm"
      },
      "source": [
        "import numpy as np\n",
        "\n",
        "\n",
        "def plot_confusion_matrix(cm,\n",
        "                          target_names,\n",
        "                          title='Confusion matrix',\n",
        "                          cmap=None,\n",
        "                          normalize=True):\n",
        "   \n",
        "    import matplotlib.pyplot as plt\n",
        "    import numpy as np\n",
        "    import itertools\n",
        "\n",
        "    accuracy = np.trace(cm) / np.sum(cm).astype('float')\n",
        "    misclass = 1 - accuracy\n",
        "\n",
        "    if cmap is None:\n",
        "        cmap = plt.get_cmap('Blues')\n",
        "\n",
        "    plt.figure(figsize=(45, 45))\n",
        "    plt.imshow(cm, interpolation='nearest', cmap=cmap)\n",
        "    plt.title(title)\n",
        "    plt.colorbar()\n",
        "\n",
        "    if target_names is not None:\n",
        "        tick_marks = np.arange(len(target_names))\n",
        "        plt.xticks(tick_marks, target_names, rotation=45)\n",
        "        plt.yticks(tick_marks, target_names)\n",
        "\n",
        "    if normalize:\n",
        "        cm = cm.astype('float') / cm.sum(axis=1)[:, np.newaxis]\n",
        "\n",
        "\n",
        "    thresh = cm.max() / 1.5 if normalize else cm.max() / 2\n",
        "    for i, j in itertools.product(range(cm.shape[0]), range(cm.shape[1])):\n",
        "        if normalize:\n",
        "            plt.text(j, i, \"{:0.4f}\".format(cm[i, j]),\n",
        "                     horizontalalignment=\"center\",\n",
        "                     color=\"white\" if cm[i, j] > thresh else \"black\")\n",
        "        else:\n",
        "            plt.text(j, i, \"{:,}\".format(cm[i, j]),\n",
        "                     horizontalalignment=\"center\",\n",
        "                     color=\"white\" if cm[i, j] > thresh else \"black\")\n",
        "\n",
        "\n",
        "    plt.tight_layout()\n",
        "    plt.ylabel('True label')\n",
        "    plt.xlabel('Predicted label\\naccuracy={:0.4f}; misclass={:0.4f}'.format(accuracy, misclass))\n",
        "    plt.show()"
      ],
      "execution_count": null,
      "outputs": []
    },
    {
      "cell_type": "code",
      "metadata": {
        "id": "AUSeG2XPfmFC"
      },
      "source": [
        "from sklearn.metrics import confusion_matrix\n",
        "import matplotlib.pyplot as plt\n",
        "# Confusion matrix\n",
        "#cm = confusion_matrix(y, pred_labels)\n",
        "#plot_confusion_matrix(learn,X=pred_labels, y_true=y)\n",
        "class_names = ['Speed limit (20km/h)','Speed limit (30km/h)','No passing for vechiles over 3.5 metric tons',\n",
        "'Right-of-way at the next intersection', 'Priority road', 'Yield', 'Stop', 'No vechiles', ' Vechiles over 3.5 metric tons prohibited',\n",
        "'No entry', 'General caution', 'Dangerous curve to the left', 'Speed limit (50km/h)', 'Dangerous curve to the right',\n",
        "'Double curve','Bumpy road', 'Slippery road', 'Road narrows on the right', 'Road work', 'Traffic signals', 'Pedestrians',\n",
        "'Children crossing', 'Bicycles crossing', 'Speed limit (60km/h)', 'Beware of ice/snow', 'Wild animals crossing',\n",
        "'End of all speed and passing limits', 'Turn right ahead', 'Turn left ahead', 'Ahead only', 'Go straight or right',\n",
        "'Go straight or left', 'Keep right', 'Keep left', 'Speed limit (70km/h)', 'Roundabout mandatory', 'End of no passing',\n",
        "'End of no passing by vechiles over 3.5 metric tons', 'Speed limit (80km/h)', 'End of speed limit (80km/h)',\n",
        "'Speed limit (100km/h)', 'Speed limit (120km/h)', 'No passing'\n",
        "]\n",
        "cm = confusion_matrix(y, pred_labels)\n",
        "'''\n",
        "fig = plt.figure()\n",
        "ax = fig.add_subplot(111)\n",
        "cax = ax.matshow(cm)\n",
        "plt.title('Confusion matrix of the classifier')\n",
        "fig.colorbar(cax)\n",
        "ax.set_xticklabels([''] )\n",
        "ax.set_yticklabels([''] )\n",
        "plt.xlabel('Predicted')\n",
        "plt.ylabel('True')\n",
        "plt.show()\n",
        "'''\n",
        "\n",
        "\n",
        "plot_confusion_matrix(cm, target_names=class_names)"
      ],
      "execution_count": null,
      "outputs": []
    },
    {
      "cell_type": "markdown",
      "metadata": {
        "id": "EcjDSN5niQ43"
      },
      "source": [
        "# Load and test model"
      ]
    },
    {
      "cell_type": "markdown",
      "metadata": {
        "id": "mWrVt4TBJl7X"
      },
      "source": [
        "**Load model**"
      ]
    },
    {
      "cell_type": "code",
      "metadata": {
        "id": "VZcdCqegY_wC"
      },
      "source": [
        "learn2 = load_learner(path=\"/content/Data/models\",file='gtrsb_1.pkl',test=data.test_ds)"
      ],
      "execution_count": null,
      "outputs": []
    },
    {
      "cell_type": "markdown",
      "metadata": {
        "id": "EQbyfKeUJozT"
      },
      "source": [
        "**Calculate accuracy**"
      ]
    },
    {
      "cell_type": "code",
      "metadata": {
        "colab": {
          "base_uri": "https://localhost:8080/",
          "height": 34
        },
        "id": "eAJvhFvnZDdG",
        "outputId": "d3dc5ce3-8690-43fb-f215-ff5389b68d44"
      },
      "source": [
        "acc = learn2.validate(dl=data.valid_dl)\n",
        "print('Model accuracy = ', float(acc[2])*100,'%')"
      ],
      "execution_count": null,
      "outputs": [
        {
          "output_type": "display_data",
          "data": {
            "text/html": [
              ""
            ],
            "text/plain": [
              "<IPython.core.display.HTML object>"
            ]
          },
          "metadata": {
            "tags": []
          }
        },
        {
          "output_type": "execute_result",
          "data": {
            "text/plain": [
              "[0.21616928, tensor(0.9440)]"
            ]
          },
          "metadata": {
            "tags": []
          },
          "execution_count": 28
        }
      ]
    },
    {
      "cell_type": "markdown",
      "metadata": {
        "id": "lGDIZ327Juij"
      },
      "source": [
        "**Test model**"
      ]
    },
    {
      "cell_type": "code",
      "metadata": {
        "colab": {
          "base_uri": "https://localhost:8080/",
          "height": 326
        },
        "id": "vj6NLxn4aiGK",
        "outputId": "d9a1b9af-120c-40c8-ae5d-af50fd5d2749"
      },
      "source": [
        "learn2.model.eval()\n",
        "\n",
        "#img2 = open_image('/content/test_image_100.png')\n",
        "classes = [0,1,10,11,12,13,14,15,16,17,18,19,2,20,21,22,23,24,25,26,27,28,29,3,30,31,32,33,34,35,36,37,38,39,4,40,41,42,5,6,7,8,9]\n",
        "class_names = ['Speed limit (20km/h)','Speed limit (30km/h)','No passing for vechiles over 3.5 metric tons',\n",
        "'Right-of-way at the next intersection', 'Priority road', 'Yield', 'Stop', 'No vechiles', ' Vechiles over 3.5 metric tons prohibited',\n",
        "'No entry', 'General caution', 'Dangerous curve to the left', 'Speed limit (50km/h)', 'Dangerous curve to the right',\n",
        "'Double curve','Bumpy road', 'Slippery road', 'Road narrows on the right', 'Road work', 'Traffic signals', 'Pedestrians',\n",
        "'Children crossing', 'Bicycles crossing', 'Speed limit (60km/h)', 'Beware of ice/snow', 'Wild animals crossing',\n",
        "'End of all speed and passing limits', 'Turn right ahead', 'Turn left ahead', 'Ahead only', 'Go straight or right',\n",
        "'Go straight or left', 'Keep right', 'Keep left', 'Speed limit (70km/h)', 'Roundabout mandatory', 'End of no passing',\n",
        "'End of no passing by vechiles over 3.5 metric tons', 'Speed limit (80km/h)', 'End of speed limit (80km/h)',\n",
        "'Speed limit (100km/h)', 'Speed limit (120km/h)', 'No passing'\n",
        "]\n",
        "\n",
        "\n",
        "img2 = open_image('/content/test_image_100_4.png')\n",
        "\n",
        "#img = img.apply_tfms(tfms=get_transforms()[1], size=80)\n",
        "\n",
        "pred = learn2.predict(img2)\n",
        "#print(pred)\n",
        "k = int(pred[0])\n",
        "print(\"CLASS = \",class_names[k], 'ACC =',max(pred[2]))\n",
        "img2\n"
      ],
      "execution_count": null,
      "outputs": [
        {
          "output_type": "stream",
          "text": [
            "(Category tensor(40), tensor(40), tensor([5.7583e-09, 1.4319e-06, 1.0267e-11, 8.0422e-08, 1.9949e-08, 1.0326e-09,\n",
            "        1.1216e-09, 1.6460e-07, 3.6739e-09, 3.7973e-09, 1.3328e-11, 2.5710e-14,\n",
            "        1.3582e-05, 5.3995e-13, 1.4386e-12, 2.2282e-11, 4.7718e-12, 3.3005e-11,\n",
            "        4.4300e-12, 8.5682e-12, 2.8949e-11, 1.4970e-12, 5.7024e-11, 2.3749e-08,\n",
            "        5.0371e-08, 3.8099e-12, 1.7561e-10, 3.4388e-07, 1.8168e-08, 9.4979e-07,\n",
            "        7.5644e-09, 4.0324e-09, 2.9116e-06, 1.3908e-08, 1.5638e-08, 2.7729e-09,\n",
            "        1.2506e-12, 5.9877e-10, 4.6423e-06, 2.5788e-13, 9.9998e-01, 2.9377e-07,\n",
            "        5.6213e-11]))\n",
            "CLASS =  Speed limit (100km/h) ACC = tensor(1.0000)\n"
          ],
          "name": "stdout"
        },
        {
          "output_type": "execute_result",
          "data": {
            "image/png": "[encoded data removed]",
            "image/jpeg": "[encoded data removed]",
            "text/plain": [
              "Image (3, 156, 150)"
            ]
          },
          "metadata": {
            "tags": []
          },
          "execution_count": 87
        }
      ]
    }
  ]
}