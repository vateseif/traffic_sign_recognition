{
  "nbformat": 4,
  "nbformat_minor": 0,
  "metadata": {
    "colab": {
      "name": "Traffic_sign_classification.ipynb",
      "provenance": [],
      "collapsed_sections": [
        "tfTvn9eWM59S"
      ],
      "include_colab_link": true
    },
    "kernelspec": {
      "name": "python3",
      "display_name": "Python 3"
    }
  },
  "cells": [
    {
      "cell_type": "markdown",
      "metadata": {
        "id": "view-in-github",
        "colab_type": "text"
      },
      "source": [
        "<a href=\"https://colab.research.google.com/github/vateseif/traffic_sign_recognition/blob/master/Traffic_sign_classification.ipynb\" target=\"_parent\"><img src=\"https://colab.research.google.com/assets/colab-badge.svg\" alt=\"Open In Colab\"/></a>"
      ]
    },
    {
      "cell_type": "markdown",
      "metadata": {
        "id": "tfTvn9eWM59S",
        "colab_type": "text"
      },
      "source": [
        "# Obtaini ng data from Kaggle (German traffic sign)"
      ]
    },
    {
      "cell_type": "code",
      "metadata": {
        "id": "ga4_cmLd1_uU",
        "colab_type": "code",
        "colab": {}
      },
      "source": [
        "# Run this cell and select the kaggle.json file downloaded\n",
        "# from the Kaggle account settings page.\n",
        "from google.colab import files\n",
        "files.upload()"
      ],
      "execution_count": 0,
      "outputs": []
    },
    {
      "cell_type": "code",
      "metadata": {
        "id": "LkC3_L8C2bmV",
        "colab_type": "code",
        "colab": {}
      },
      "source": [
        "!pip install -q kaggle"
      ],
      "execution_count": 0,
      "outputs": []
    },
    {
      "cell_type": "code",
      "metadata": {
        "id": "Raez3Bpz3zaX",
        "colab_type": "code",
        "colab": {}
      },
      "source": [
        "!mkdir ~/.kaggle\n",
        "!touch ~/.kaggle/kaggle.json\n",
        "\n",
        "api_token = {\"username\":\"vateseif99\",\"key\":\"c00e2a500deb03e9e1ba578e43682111\"}\n",
        "\n",
        "import json\n",
        "\n",
        "with open('/root/.kaggle/kaggle.json', 'w') as file:\n",
        "    json.dump(api_token, file)\n",
        "\n",
        "!chmod 600 ~/.kaggle/kaggle.json"
      ],
      "execution_count": 0,
      "outputs": []
    },
    {
      "cell_type": "code",
      "metadata": {
        "id": "OjveYZVj2kWr",
        "colab_type": "code",
        "colab": {}
      },
      "source": [
        "# List available datasets.\n",
        "!kaggle datasets list"
      ],
      "execution_count": 0,
      "outputs": []
    },
    {
      "cell_type": "code",
      "metadata": {
        "id": "MBtHcKVg3mO7",
        "colab_type": "code",
        "colab": {}
      },
      "source": [
        "# API call to download German traffic sign dataset\n",
        "!kaggle datasets download -d meowmeowmeowmeowmeow/gtsrb-german-traffic-sign"
      ],
      "execution_count": 0,
      "outputs": []
    },
    {
      "cell_type": "code",
      "metadata": {
        "id": "EqBfi_KX4iX5",
        "colab_type": "code",
        "colab": {}
      },
      "source": [
        "import os, shutil"
      ],
      "execution_count": 0,
      "outputs": []
    },
    {
      "cell_type": "code",
      "metadata": {
        "id": "oVSav0Ua5QYb",
        "colab_type": "code",
        "colab": {}
      },
      "source": [
        "# Unzipping dataset\n",
        "!unzip -q \"gtsrb-german-traffic-sign.zip\""
      ],
      "execution_count": 0,
      "outputs": []
    },
    {
      "cell_type": "code",
      "metadata": {
        "id": "jkQaJHqv7gIb",
        "colab_type": "code",
        "colab": {}
      },
      "source": [
        "datasets = \"/content/drive/My Drive/University/ACVPR/Datasets\"\n",
        "meta = \"/content/Meta\"\n",
        "test = \"/content/Test\"\n",
        "train = \"/content/Train\"\n",
        "# shutil.move relocates the folders\n",
        "try:\n",
        "  shutil.move(meta, datasets+\"/Meta\")\n",
        "  shutil.move(test, datasets+\"/Test\")\n",
        "  shutil.move(train, datasets+\"/Train\")\n",
        "except Exception as ex:\n",
        "  print(ex)\n"
      ],
      "execution_count": 0,
      "outputs": []
    },
    {
      "cell_type": "code",
      "metadata": {
        "id": "1q2lLx0Q8_0s",
        "colab_type": "code",
        "outputId": "33f85a87-57e9-43c4-cf71-162c68f80f48",
        "colab": {
          "base_uri": "https://localhost:8080/",
          "height": 170
        }
      },
      "source": [
        "!ls \"/content/drive/My Drive/University/ACVPR/Datasets/Test\""
      ],
      "execution_count": 0,
      "outputs": [
        {
          "output_type": "stream",
          "text": [
            "04316.png  06136.png  07053.png  07575.png  08960.png  10283.png  11200.png\n",
            "04413.png  06321.png  07077.png  07845.png  09233.png  10319.png  11344.png\n",
            "04496.png  06616.png  07085.png  07949.png  09350.png  10439.png  11658.png\n",
            "04821.png  06668.png  07167.png  08205.png  09493.png  10583.png  11842.png\n",
            "04932.png  06692.png  07258.png  08700.png  09593.png  10706.png  12019.png\n",
            "05022.png  06708.png  07275.png  08730.png  09646.png  10713.png  12098.png\n",
            "05727.png  06939.png  07305.png  08784.png  09868.png  10735.png  12276.png\n",
            "05786.png  06948.png  07454.png  08821.png  09937.png  11114.png  12502.png\n",
            "05999.png  07005.png  07504.png  08938.png  10078.png  11176.png\n"
          ],
          "name": "stdout"
        }
      ]
    },
    {
      "cell_type": "code",
      "metadata": {
        "id": "EXi6NlcxCB39",
        "colab_type": "code",
        "colab": {}
      },
      "source": [
        "try:\n",
        "  shutil.move(\"/content/Meta.csv\", datasets+\"Meta.csv\")\n",
        "  shutil.move(\"/content/Test.csv\", datasets+\"Test.csv\")\n",
        "  shutil.move(\"/content/Train.csv\", datasets+\"Train.csv\")\n",
        "except Exception as ex:\n",
        "  print(ex)"
      ],
      "execution_count": 0,
      "outputs": []
    },
    {
      "cell_type": "code",
      "metadata": {
        "id": "KgMvUdGqH3MK",
        "colab_type": "code",
        "colab": {}
      },
      "source": [
        "import numpy as np\n",
        "import matplotlib.pyplot as plt\n",
        "import cv2"
      ],
      "execution_count": 0,
      "outputs": []
    },
    {
      "cell_type": "code",
      "metadata": {
        "id": "hZr3oWL2Ku7q",
        "colab_type": "code",
        "outputId": "cd41706e-6dcd-474f-8819-ab40e0cf447b",
        "colab": {
          "base_uri": "https://localhost:8080/",
          "height": 77
        }
      },
      "source": [
        "from google.colab.patches import cv2_imshow\n",
        "im = \"/content/drive/My Drive/University/ACVPR/Datasets/Test/00388.png\"\n",
        "img = cv2.imread(im, cv2.IMREAD_UNCHANGED)\n",
        "# Show image\n",
        "cv2_imshow(img)\n",
        "(img.shape) "
      ],
      "execution_count": 0,
      "outputs": [
        {
          "output_type": "display_data",
          "data": {
            "image/png": "[encoded data removed]",
            "text/plain": [
              "<PIL.Image.Image image mode=RGB size=40x43 at 0x7FB26975D0B8>"
            ]
          },
          "metadata": {
            "tags": []
          }
        },
        {
          "output_type": "execute_result",
          "data": {
            "text/plain": [
              "(43, 40, 3)"
            ]
          },
          "metadata": {
            "tags": []
          },
          "execution_count": 180
        }
      ]
    },
    {
      "cell_type": "code",
      "metadata": {
        "id": "DBBnI5sSaXVV",
        "colab_type": "code",
        "colab": {}
      },
      "source": [
        "train_data_dir = \"/content/drive/My Drive/University/ACVPR/Datasets/Train\"\n",
        "test_data_dir = \"/content/drive/My Drive/University/ACVPR/Datasets/Test\"\n",
        "\n",
        "test_data_dir = \"/content/drive/My Drive/University/ACVPR/Datasets/Test/\"\n",
        "test_files = sorted(os.listdir(test_data_dir))[:12629]\n",
        "len(test_files)\n",
        "\n",
        "os.makedirs(\"/content/drive/My Drive/University/ACVPR/Datasets/Testing/42\")"
      ],
      "execution_count": 0,
      "outputs": []
    },
    {
      "cell_type": "code",
      "metadata": {
        "id": "6d5OLDnUowA6",
        "colab_type": "code",
        "outputId": "581b2835-2c14-4160-ad51-402f50bf6c59",
        "colab": {
          "base_uri": "https://localhost:8080/",
          "height": 34
        }
      },
      "source": [
        "import pandas as pd\n",
        "my_csv = pd.read_csv(\"/content/drive/My Drive/University/ACVPR/DatasetsTest.csv\")\n",
        "test_labels = my_csv[\"ClassId\"]\n",
        "test_labels[5076]\n",
        "# you can also use my_csv['column_name']"
      ],
      "execution_count": 0,
      "outputs": [
        {
          "output_type": "execute_result",
          "data": {
            "text/plain": [
              "1"
            ]
          },
          "metadata": {
            "tags": []
          },
          "execution_count": 225
        }
      ]
    },
    {
      "cell_type": "code",
      "metadata": {
        "id": "q7AlRX0N_Fsh",
        "colab_type": "code",
        "colab": {}
      },
      "source": [
        "print(test_data_dir+test_files[0])\n",
        "print(test_data_dir+str(test_labels[int(test_files[0][:5])])+\"/\"+test_files[0])\n"
      ],
      "execution_count": 0,
      "outputs": []
    },
    {
      "cell_type": "code",
      "metadata": {
        "id": "1eE8lyS97Ra2",
        "colab_type": "code",
        "colab": {}
      },
      "source": [
        "testing_data_dir = \"/content/drive/My Drive/University/ACVPR/Datasets/Testing/\"\n",
        "for files in test_files:\n",
        "  try:\n",
        "    os.rename(test_data_dir+files,\n",
        "              testing_data_dir+str(test_labels[int(files[:5])])+\"/\"+files)\n",
        "    print(test_data_dir+files, \"==>\", testing_data_dir+str(test_labels[int(files[:5])])+\"/\"+files)\n",
        "  except Exception as ex:\n",
        "    pass\n",
        "\n",
        "target_names = [item for item in os.listdir(train_data_dir) if os.path.isdir(os.path.join(train_data_dir, item))]\n",
        "print('\\n - names of classes: ', target_names, '\\n - # of classes: ', nb_classes)"
      ],
      "execution_count": 0,
      "outputs": []
    },
    {
      "cell_type": "markdown",
      "metadata": {
        "id": "IQN_QUAgFBjY",
        "colab_type": "text"
      },
      "source": [
        "# Creating training data from folders\n"
      ]
    },
    {
      "cell_type": "code",
      "metadata": {
        "id": "NwlidMPSXFaE",
        "colab_type": "code",
        "colab": {}
      },
      "source": [
        "# Create dataset in array form from directory split in training (80%) and validation(20%)\n",
        "from keras.preprocessing.image import ImageDataGenerator\n",
        "train_datagen = ImageDataGenerator(rescale=1./255, validation_split=0.2)\n",
        "test_datagen = ImageDataGenerator(rescale=1./255)\n",
        "train_generator = train_datagen.flow_from_directory(\n",
        "        train_data_dir,\n",
        "        color_mode = \"grayscale\",\n",
        "        target_size = (50,50),\n",
        "        subset = \"training\",\n",
        "        batch_size=32)\n",
        "\n",
        "\n",
        "validation_generator = train_datagen.flow_from_directory(\n",
        "        train_data_dir,\n",
        "        color_mode = \"grayscale\",\n",
        "        target_size = (50,50),\n",
        "        subset = \"validation\",\n",
        "        batch_size=32)\n",
        "\n",
        "\n",
        "print(\"train_generator has:\",len(train_generator),\"batches, with each a shape of\",train_generator[1][0].shape)\n",
        "print(\"\")\n",
        "print(\"yielding tuples of (x, y) where x is a NumPy array containing a batch of images with shape (batch_size, *target_size, channels) and y is a NumPy array of corresponding labels.\")\n",
        "print(\"\")\n",
        "print(\"train_generator has:\",len(validation_generator),\"batches, with each a shape of\",validation_generator[1][0].shape)\n"
      ],
      "execution_count": 0,
      "outputs": []
    },
    {
      "cell_type": "code",
      "metadata": {
        "id": "7gZu6aH8BRHE",
        "colab_type": "code",
        "outputId": "157a189e-173e-4fed-9fb1-859b1a2bbbb2",
        "colab": {
          "base_uri": "https://localhost:8080/",
          "height": 34
        }
      },
      "source": [
        "test_datagen = ImageDataGenerator(rescale=1./255)\n",
        "\n",
        "test_generator = train_datagen.flow_from_directory(\n",
        "        testing_data_dir,\n",
        "        color_mode = \"grayscale\",\n",
        "        target_size = (50,50),\n",
        "        batch_size=32)"
      ],
      "execution_count": 0,
      "outputs": [
        {
          "output_type": "stream",
          "text": [
            "Found 12681 images belonging to 43 classes.\n"
          ],
          "name": "stdout"
        }
      ]
    },
    {
      "cell_type": "markdown",
      "metadata": {
        "id": "oeNraSHgoY_M",
        "colab_type": "text"
      },
      "source": [
        "# CNN \n",
        "After 10 epochs:\\\n",
        "validation_accuracy = 91.5%\n",
        "test_accuracy = 82.7%"
      ]
    },
    {
      "cell_type": "code",
      "metadata": {
        "id": "oFbEEOtENUs_",
        "colab_type": "code",
        "colab": {}
      },
      "source": [
        "import keras\n",
        "from keras import layers\n",
        "from keras import models\n",
        "\n",
        "# Declaring model\n",
        "model = keras.models.Sequential()\n",
        "\n",
        "model.add(layers.Conv2D(32,(3,3),activation='relu',input_shape=(50,50,1)))   \n",
        "model.add(layers.MaxPooling2D((2,2)))\n",
        "model.add(layers.Conv2D(64,(3,3),activation='relu'))                         \n",
        "model.add(layers.MaxPooling2D((2,2)))\n",
        "model.add(layers.Conv2D(128,(3,3),activation='relu'))\n",
        "model.add(layers.MaxPooling2D((2,2)))\n",
        "model.add(layers.Conv2D(128,(3,3),activation='relu'))\n",
        "model.add(layers.MaxPooling2D((2,2)))\n",
        "model.add(layers.Flatten())\n",
        "model.add(layers.Dense(512,activation='relu'))\n",
        "model.add(layers.Dense(43,activation='softmax'))\n",
        "\n",
        "model.summary()\n",
        "\n",
        "model.compile(optimizer='rmsprop',\n",
        "              loss = 'categorical_crossentropy',\n",
        "              metrics=['accuracy'])\n"
      ],
      "execution_count": 0,
      "outputs": []
    },
    {
      "cell_type": "code",
      "metadata": {
        "id": "6WJFdD1Zka4T",
        "colab_type": "code",
        "colab": {}
      },
      "source": [
        "history = model.fit_generator(\n",
        "    train_generator,\n",
        "    steps_per_epoch=100,\n",
        "    epochs=10,\n",
        "    validation_data=validation_generator,\n",
        "    validation_steps=50)"
      ],
      "execution_count": 0,
      "outputs": []
    },
    {
      "cell_type": "code",
      "metadata": {
        "id": "wOrAOKgtlvuW",
        "colab_type": "code",
        "outputId": "aa9bb7ce-df0e-43c2-e42a-8ccc847b0b3d",
        "colab": {
          "base_uri": "https://localhost:8080/",
          "height": 579
        }
      },
      "source": [
        "acc = history.history[\"accuracy\"]\n",
        "val_acc = history.history['val_accuracy']\n",
        "loss = history.history['loss']\n",
        "val_loss = history.history['val_loss']\n",
        "\n",
        "epochs = range(1,len(acc)+1)\n",
        "\n",
        "plt.plot(epochs,acc,'bo')\n",
        "plt.plot(epochs,val_acc,'b')\n",
        "plt.title('accuracy')\n",
        "plt.legend()\n",
        "\n",
        "plt.figure()\n",
        "\n",
        "plt.plot(epochs,loss,'bo')\n",
        "plt.plot(epochs,val_loss,'b')\n",
        "plt.title('loss')\n",
        "plt.legend()\n",
        "\n",
        "plt.show()\n"
      ],
      "execution_count": 0,
      "outputs": [
        {
          "output_type": "stream",
          "text": [
            "No handles with labels found to put in legend.\n",
            "No handles with labels found to put in legend.\n"
          ],
          "name": "stderr"
        },
        {
          "output_type": "display_data",
          "data": {
            "image/png": "[encoded data removed]",
            "text/plain": [
              "<Figure size 432x288 with 1 Axes>"
            ]
          },
          "metadata": {
            "tags": [],
            "needs_background": "light"
          }
        },
        {
          "output_type": "display_data",
          "data": {
            "image/png": "[encoded data removed]",
            "text/plain": [
              "<Figure size 432x288 with 1 Axes>"
            ]
          },
          "metadata": {
            "tags": [],
            "needs_background": "light"
          }
        }
      ]
    },
    {
      "cell_type": "code",
      "metadata": {
        "id": "CN89FyRbtsO8",
        "colab_type": "code",
        "outputId": "461fe6f6-241f-4f1c-e0b0-cc5828a1de4a",
        "colab": {
          "base_uri": "https://localhost:8080/",
          "height": 34
        }
      },
      "source": [
        "test_loss, test_acc = model.evaluate_generator(test_generator, steps=50)\n",
        "print('test acc:', test_acc)"
      ],
      "execution_count": 0,
      "outputs": [
        {
          "output_type": "stream",
          "text": [
            "test acc: 0.8274999856948853\n"
          ],
          "name": "stdout"
        }
      ]
    }
  ]
}